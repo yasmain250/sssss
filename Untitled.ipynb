{
 "cells": [
  {
   "cell_type": "code",
   "execution_count": 2,
   "id": "8b2f0e8f",
   "metadata": {},
   "outputs": [
    {
     "name": "stdout",
     "output_type": "stream",
     "text": [
      "Hello yasmeen\n"
     ]
    }
   ],
   "source": [
    "print(\"Hello yasmeen\")"
   ]
  },
  {
   "cell_type": "code",
   "execution_count": 12,
   "id": "032c6e6d",
   "metadata": {},
   "outputs": [
    {
     "name": "stdout",
     "output_type": "stream",
     "text": [
      "5\n",
      "shahd\n",
      "7.5\n"
     ]
    }
   ],
   "source": [
    "x=5\n",
    "y=\"shahd\"\n",
    "z=7.5\n",
    "print(x)\n",
    "print(y)\n",
    "print(z)"
   ]
  },
  {
   "cell_type": "code",
   "execution_count": 13,
   "id": "e86e5538",
   "metadata": {},
   "outputs": [
    {
     "name": "stdout",
     "output_type": "stream",
     "text": [
      "<class 'int'>\n",
      "<class 'str'>\n",
      "<class 'float'>\n"
     ]
    }
   ],
   "source": [
    "print (type(x))\n",
    "print (type(y))\n",
    "print (type(z))"
   ]
  },
  {
   "cell_type": "code",
   "execution_count": 25,
   "id": "50721e9e",
   "metadata": {},
   "outputs": [
    {
     "name": "stdout",
     "output_type": "stream",
     "text": [
      "Hello\n",
      "   world\n"
     ]
    }
   ],
   "source": [
    "print ('Hello\\n   world')"
   ]
  },
  {
   "cell_type": "code",
   "execution_count": 23,
   "id": "12d60f98",
   "metadata": {},
   "outputs": [
    {
     "name": "stdout",
     "output_type": "stream",
     "text": [
      "Hello\n",
      "  world!\n"
     ]
    }
   ],
   "source": [
    "print('Hello')\n",
    "print('  world!')"
   ]
  },
  {
   "cell_type": "code",
   "execution_count": 27,
   "id": "45f46b6a",
   "metadata": {},
   "outputs": [
    {
     "name": "stdout",
     "output_type": "stream",
     "text": [
      "shahd\tyasmeen\n"
     ]
    }
   ],
   "source": [
    "print('shahd\\tyasmeen')"
   ]
  },
  {
   "cell_type": "code",
   "execution_count": null,
   "id": "e7a8fddb",
   "metadata": {},
   "outputs": [],
   "source": []
  }
 ],
 "metadata": {
  "kernelspec": {
   "display_name": "Python 3 (ipykernel)",
   "language": "python",
   "name": "python3"
  },
  "language_info": {
   "codemirror_mode": {
    "name": "ipython",
    "version": 3
   },
   "file_extension": ".py",
   "mimetype": "text/x-python",
   "name": "python",
   "nbconvert_exporter": "python",
   "pygments_lexer": "ipython3",
   "version": "3.11.4"
  }
 },
 "nbformat": 4,
 "nbformat_minor": 5
}
